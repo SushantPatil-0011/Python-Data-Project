{
 "cells": [
  {
   "cell_type": "code",
   "execution_count": 22,
   "metadata": {},
   "outputs": [],
   "source": [
    "import ast\n",
    "import pandas as pd\n",
    "from datasets import load_dataset\n",
    "import matplotlib.pyplot as plt\n",
    "\n",
    "dataset = load_dataset('lukebarousse/data_jobs')\n",
    "df = dataset['train'].to_pandas()\n",
    "\n",
    "df[\"job_posted_date\"] = pd.to_datetime(df['job_posted_date'])"
   ]
  },
  {
   "cell_type": "code",
   "execution_count": 23,
   "metadata": {},
   "outputs": [
    {
     "data": {
      "text/plain": [
       "0        2023-06-16 13:44:15\n",
       "1        2023-01-14 13:18:07\n",
       "2        2023-10-10 13:14:55\n",
       "3        2023-07-04 13:01:41\n",
       "4        2023-08-07 14:29:36\n",
       "                 ...        \n",
       "785736   2023-03-13 06:16:16\n",
       "785737   2023-03-12 06:18:18\n",
       "785738   2023-03-12 06:32:36\n",
       "785739   2023-03-12 06:32:15\n",
       "785740   2023-03-13 06:16:31\n",
       "Name: job_posted_date, Length: 785741, dtype: datetime64[ns]"
      ]
     },
     "execution_count": 23,
     "metadata": {},
     "output_type": "execute_result"
    }
   ],
   "source": [
    "df[\"job_posted_date\"]"
   ]
  },
  {
   "cell_type": "code",
   "execution_count": 24,
   "metadata": {},
   "outputs": [
    {
     "data": {
      "text/html": [
       "<div>\n",
       "<style scoped>\n",
       "    .dataframe tbody tr th:only-of-type {\n",
       "        vertical-align: middle;\n",
       "    }\n",
       "\n",
       "    .dataframe tbody tr th {\n",
       "        vertical-align: top;\n",
       "    }\n",
       "\n",
       "    .dataframe thead th {\n",
       "        text-align: right;\n",
       "    }\n",
       "</style>\n",
       "<table border=\"1\" class=\"dataframe\">\n",
       "  <thead>\n",
       "    <tr style=\"text-align: right;\">\n",
       "      <th></th>\n",
       "      <th>job_title_short</th>\n",
       "      <th>job_skills</th>\n",
       "    </tr>\n",
       "  </thead>\n",
       "  <tbody>\n",
       "    <tr>\n",
       "      <th>0</th>\n",
       "      <td>Senior Data Engineer</td>\n",
       "      <td>None</td>\n",
       "    </tr>\n",
       "    <tr>\n",
       "      <th>1</th>\n",
       "      <td>Data Analyst</td>\n",
       "      <td>['r', 'python', 'sql', 'nosql', 'power bi', 't...</td>\n",
       "    </tr>\n",
       "    <tr>\n",
       "      <th>2</th>\n",
       "      <td>Data Engineer</td>\n",
       "      <td>['python', 'sql', 'c#', 'azure', 'airflow', 'd...</td>\n",
       "    </tr>\n",
       "    <tr>\n",
       "      <th>3</th>\n",
       "      <td>Data Engineer</td>\n",
       "      <td>['python', 'c++', 'java', 'matlab', 'aws', 'te...</td>\n",
       "    </tr>\n",
       "    <tr>\n",
       "      <th>4</th>\n",
       "      <td>Data Engineer</td>\n",
       "      <td>['bash', 'python', 'oracle', 'aws', 'ansible',...</td>\n",
       "    </tr>\n",
       "  </tbody>\n",
       "</table>\n",
       "</div>"
      ],
      "text/plain": [
       "        job_title_short                                         job_skills\n",
       "0  Senior Data Engineer                                               None\n",
       "1          Data Analyst  ['r', 'python', 'sql', 'nosql', 'power bi', 't...\n",
       "2         Data Engineer  ['python', 'sql', 'c#', 'azure', 'airflow', 'd...\n",
       "3         Data Engineer  ['python', 'c++', 'java', 'matlab', 'aws', 'te...\n",
       "4         Data Engineer  ['bash', 'python', 'oracle', 'aws', 'ansible',..."
      ]
     },
     "execution_count": 24,
     "metadata": {},
     "output_type": "execute_result"
    }
   ],
   "source": [
    "df[[\"job_title_short\", \"job_skills\"]].head(5)"
   ]
  },
  {
   "cell_type": "code",
   "execution_count": 43,
   "metadata": {},
   "outputs": [],
   "source": [
    "df_exploded = df.explode(\"job_skills\")"
   ]
  },
  {
   "cell_type": "code",
   "execution_count": 45,
   "metadata": {},
   "outputs": [
    {
     "data": {
      "text/plain": [
       "<Axes: xlabel='job_skills'>"
      ]
     },
     "execution_count": 45,
     "metadata": {},
     "output_type": "execute_result"
    },
    {
     "data": {
      "image/png": "[encoded data removed]",
      "text/plain": [
       "<Figure size 640x480 with 1 Axes>"
      ]
     },
     "metadata": {},
     "output_type": "display_data"
    }
   ],
   "source": [
    "df_exploded[\"job_skills\"].value_counts().head(10).plot(kind=\"bar\")"
   ]
  },
  {
   "cell_type": "code",
   "execution_count": 32,
   "metadata": {},
   "outputs": [
    {
     "data": {
      "text/plain": [
       "job_skills                                                  job_title_short          \n",
       "['airflow', 'confluence']                                   Data Engineer                 1\n",
       "['airflow', 'datarobot', 'docker', 'kubernetes']            Senior Data Engineer          1\n",
       "['airflow', 'docker', 'gitlab', 'kubernetes']               Machine Learning Engineer     1\n",
       "['airflow', 'docker', 'kubernetes', 'terraform', 'gitlab']  Data Engineer                 1\n",
       "['airflow', 'docker', 'kubernetes']                         Data Analyst                  1\n",
       "                                                                                         ..\n",
       "['zoom']                                                    Data Engineer                10\n",
       "                                                            Data Scientist               43\n",
       "                                                            Senior Data Analyst           2\n",
       "                                                            Senior Data Scientist         2\n",
       "                                                            Software Engineer             8\n",
       "Length: 215220, dtype: int64"
      ]
     },
     "execution_count": 32,
     "metadata": {},
     "output_type": "execute_result"
    }
   ],
   "source": [
    "skills_count = df_exploded.groupby([\"job_skills\", \"job_title_short\"]).size()\n",
    "\n",
    "skills_count"
   ]
  },
  {
   "cell_type": "code",
   "execution_count": 33,
   "metadata": {},
   "outputs": [
    {
     "data": {
      "text/plain": [
       "pandas.core.series.Series"
      ]
     },
     "execution_count": 33,
     "metadata": {},
     "output_type": "execute_result"
    }
   ],
   "source": [
    "type(skills_count)"
   ]
  },
  {
   "cell_type": "code",
   "execution_count": 36,
   "metadata": {},
   "outputs": [
    {
     "data": {
      "text/html": [
       "<div>\n",
       "<style scoped>\n",
       "    .dataframe tbody tr th:only-of-type {\n",
       "        vertical-align: middle;\n",
       "    }\n",
       "\n",
       "    .dataframe tbody tr th {\n",
       "        vertical-align: top;\n",
       "    }\n",
       "\n",
       "    .dataframe thead th {\n",
       "        text-align: right;\n",
       "    }\n",
       "</style>\n",
       "<table border=\"1\" class=\"dataframe\">\n",
       "  <thead>\n",
       "    <tr style=\"text-align: right;\">\n",
       "      <th></th>\n",
       "      <th>job_skills</th>\n",
       "      <th>job_title_short</th>\n",
       "      <th>skill_count</th>\n",
       "    </tr>\n",
       "  </thead>\n",
       "  <tbody>\n",
       "    <tr>\n",
       "      <th>0</th>\n",
       "      <td>['airflow', 'confluence']</td>\n",
       "      <td>Data Engineer</td>\n",
       "      <td>1</td>\n",
       "    </tr>\n",
       "    <tr>\n",
       "      <th>1</th>\n",
       "      <td>['airflow', 'datarobot', 'docker', 'kubernetes']</td>\n",
       "      <td>Senior Data Engineer</td>\n",
       "      <td>1</td>\n",
       "    </tr>\n",
       "    <tr>\n",
       "      <th>2</th>\n",
       "      <td>['airflow', 'docker', 'gitlab', 'kubernetes']</td>\n",
       "      <td>Machine Learning Engineer</td>\n",
       "      <td>1</td>\n",
       "    </tr>\n",
       "    <tr>\n",
       "      <th>3</th>\n",
       "      <td>['airflow', 'docker', 'kubernetes', 'terraform...</td>\n",
       "      <td>Data Engineer</td>\n",
       "      <td>1</td>\n",
       "    </tr>\n",
       "    <tr>\n",
       "      <th>4</th>\n",
       "      <td>['airflow', 'docker', 'kubernetes']</td>\n",
       "      <td>Data Analyst</td>\n",
       "      <td>1</td>\n",
       "    </tr>\n",
       "    <tr>\n",
       "      <th>...</th>\n",
       "      <td>...</td>\n",
       "      <td>...</td>\n",
       "      <td>...</td>\n",
       "    </tr>\n",
       "    <tr>\n",
       "      <th>215215</th>\n",
       "      <td>['zoom']</td>\n",
       "      <td>Data Engineer</td>\n",
       "      <td>10</td>\n",
       "    </tr>\n",
       "    <tr>\n",
       "      <th>215216</th>\n",
       "      <td>['zoom']</td>\n",
       "      <td>Data Scientist</td>\n",
       "      <td>43</td>\n",
       "    </tr>\n",
       "    <tr>\n",
       "      <th>215217</th>\n",
       "      <td>['zoom']</td>\n",
       "      <td>Senior Data Analyst</td>\n",
       "      <td>2</td>\n",
       "    </tr>\n",
       "    <tr>\n",
       "      <th>215218</th>\n",
       "      <td>['zoom']</td>\n",
       "      <td>Senior Data Scientist</td>\n",
       "      <td>2</td>\n",
       "    </tr>\n",
       "    <tr>\n",
       "      <th>215219</th>\n",
       "      <td>['zoom']</td>\n",
       "      <td>Software Engineer</td>\n",
       "      <td>8</td>\n",
       "    </tr>\n",
       "  </tbody>\n",
       "</table>\n",
       "<p>215220 rows × 3 columns</p>\n",
       "</div>"
      ],
      "text/plain": [
       "                                               job_skills  \\\n",
       "0                               ['airflow', 'confluence']   \n",
       "1        ['airflow', 'datarobot', 'docker', 'kubernetes']   \n",
       "2           ['airflow', 'docker', 'gitlab', 'kubernetes']   \n",
       "3       ['airflow', 'docker', 'kubernetes', 'terraform...   \n",
       "4                     ['airflow', 'docker', 'kubernetes']   \n",
       "...                                                   ...   \n",
       "215215                                           ['zoom']   \n",
       "215216                                           ['zoom']   \n",
       "215217                                           ['zoom']   \n",
       "215218                                           ['zoom']   \n",
       "215219                                           ['zoom']   \n",
       "\n",
       "                  job_title_short  skill_count  \n",
       "0                   Data Engineer            1  \n",
       "1            Senior Data Engineer            1  \n",
       "2       Machine Learning Engineer            1  \n",
       "3                   Data Engineer            1  \n",
       "4                    Data Analyst            1  \n",
       "...                           ...          ...  \n",
       "215215              Data Engineer           10  \n",
       "215216             Data Scientist           43  \n",
       "215217        Senior Data Analyst            2  \n",
       "215218      Senior Data Scientist            2  \n",
       "215219          Software Engineer            8  \n",
       "\n",
       "[215220 rows x 3 columns]"
      ]
     },
     "execution_count": 36,
     "metadata": {},
     "output_type": "execute_result"
    }
   ],
   "source": [
    "df_skill_count = skills_count.reset_index(name=\"skill_count\")\n",
    "\n",
    "df_skill_count"
   ]
  },
  {
   "cell_type": "code",
   "execution_count": 40,
   "metadata": {},
   "outputs": [
    {
     "data": {
      "text/html": [
       "<div>\n",
       "<style scoped>\n",
       "    .dataframe tbody tr th:only-of-type {\n",
       "        vertical-align: middle;\n",
       "    }\n",
       "\n",
       "    .dataframe tbody tr th {\n",
       "        vertical-align: top;\n",
       "    }\n",
       "\n",
       "    .dataframe thead th {\n",
       "        text-align: right;\n",
       "    }\n",
       "</style>\n",
       "<table border=\"1\" class=\"dataframe\">\n",
       "  <thead>\n",
       "    <tr style=\"text-align: right;\">\n",
       "      <th></th>\n",
       "      <th>job_skills</th>\n",
       "      <th>job_title_short</th>\n",
       "      <th>skill_count</th>\n",
       "    </tr>\n",
       "  </thead>\n",
       "  <tbody>\n",
       "    <tr>\n",
       "      <th>16110</th>\n",
       "      <td>['excel']</td>\n",
       "      <td>Data Analyst</td>\n",
       "      <td>8095</td>\n",
       "    </tr>\n",
       "    <tr>\n",
       "      <th>208186</th>\n",
       "      <td>['sql']</td>\n",
       "      <td>Data Analyst</td>\n",
       "      <td>4997</td>\n",
       "    </tr>\n",
       "    <tr>\n",
       "      <th>116092</th>\n",
       "      <td>['python']</td>\n",
       "      <td>Data Scientist</td>\n",
       "      <td>4659</td>\n",
       "    </tr>\n",
       "    <tr>\n",
       "      <th>146457</th>\n",
       "      <td>['sql', 'excel']</td>\n",
       "      <td>Data Analyst</td>\n",
       "      <td>3020</td>\n",
       "    </tr>\n",
       "    <tr>\n",
       "      <th>16108</th>\n",
       "      <td>['excel']</td>\n",
       "      <td>Business Analyst</td>\n",
       "      <td>2443</td>\n",
       "    </tr>\n",
       "    <tr>\n",
       "      <th>...</th>\n",
       "      <td>...</td>\n",
       "      <td>...</td>\n",
       "      <td>...</td>\n",
       "    </tr>\n",
       "    <tr>\n",
       "      <th>14654</th>\n",
       "      <td>['excel', 'ms access', 'spss']</td>\n",
       "      <td>Data Scientist</td>\n",
       "      <td>1</td>\n",
       "    </tr>\n",
       "    <tr>\n",
       "      <th>12160</th>\n",
       "      <td>['c++', 'rust', 'python', 'aws', 'flask', 'dja...</td>\n",
       "      <td>Data Scientist</td>\n",
       "      <td>1</td>\n",
       "    </tr>\n",
       "    <tr>\n",
       "      <th>14650</th>\n",
       "      <td>['excel', 'ms access', 'sap']</td>\n",
       "      <td>Business Analyst</td>\n",
       "      <td>1</td>\n",
       "    </tr>\n",
       "    <tr>\n",
       "      <th>14648</th>\n",
       "      <td>['excel', 'ms access', 'powerpoint']</td>\n",
       "      <td>Senior Data Scientist</td>\n",
       "      <td>1</td>\n",
       "    </tr>\n",
       "    <tr>\n",
       "      <th>157231</th>\n",
       "      <td>['sql', 'nosql', 'python', 'r', 'bash', 'mysql...</td>\n",
       "      <td>Data Engineer</td>\n",
       "      <td>1</td>\n",
       "    </tr>\n",
       "  </tbody>\n",
       "</table>\n",
       "<p>215220 rows × 3 columns</p>\n",
       "</div>"
      ],
      "text/plain": [
       "                                               job_skills  \\\n",
       "16110                                           ['excel']   \n",
       "208186                                            ['sql']   \n",
       "116092                                         ['python']   \n",
       "146457                                   ['sql', 'excel']   \n",
       "16108                                           ['excel']   \n",
       "...                                                   ...   \n",
       "14654                      ['excel', 'ms access', 'spss']   \n",
       "12160   ['c++', 'rust', 'python', 'aws', 'flask', 'dja...   \n",
       "14650                       ['excel', 'ms access', 'sap']   \n",
       "14648                ['excel', 'ms access', 'powerpoint']   \n",
       "157231  ['sql', 'nosql', 'python', 'r', 'bash', 'mysql...   \n",
       "\n",
       "              job_title_short  skill_count  \n",
       "16110            Data Analyst         8095  \n",
       "208186           Data Analyst         4997  \n",
       "116092         Data Scientist         4659  \n",
       "146457           Data Analyst         3020  \n",
       "16108        Business Analyst         2443  \n",
       "...                       ...          ...  \n",
       "14654          Data Scientist            1  \n",
       "12160          Data Scientist            1  \n",
       "14650        Business Analyst            1  \n",
       "14648   Senior Data Scientist            1  \n",
       "157231          Data Engineer            1  \n",
       "\n",
       "[215220 rows x 3 columns]"
      ]
     },
     "execution_count": 40,
     "metadata": {},
     "output_type": "execute_result"
    }
   ],
   "source": [
    "df_skill_count = df_skill_count.sort_values(by=\"skill_count\", ascending=False)\n",
    "\n",
    "df_skill_count"
   ]
  },
  {
   "cell_type": "code",
   "execution_count": 51,
   "metadata": {},
   "outputs": [
    {
     "data": {
      "image/png": "[encoded data removed]",
      "text/plain": [
       "<Figure size 640x480 with 1 Axes>"
      ]
     },
     "metadata": {},
     "output_type": "display_data"
    }
   ],
   "source": [
    "job_title = \"Data Analyst\"\n",
    "top_skills = 15\n",
    "\n",
    "df_skill_final = df_skill_count[df_skill_count[\"job_title_short\"] == job_title].head(top_skills)\n",
    "\n",
    "df_skill_final.plot(kind=\"barh\", x=\"job_skills\", y=\"skill_count\")\n",
    "plt.gca().invert_yaxis()\n",
    "plt.title(f\"Top {top_skills} skills for {job_title}s\")\n",
    "plt.xlabel(\"Job Posting Count\")\n",
    "plt.ylabel(\"\")\n",
    "plt.legend().set_visible(False)\n",
    "plt.show()"
   ]
  },
  {
   "cell_type": "code",
   "execution_count": null,
   "metadata": {},
   "outputs": [],
   "source": []
  }
 ],
 "metadata": {
  "kernelspec": {
   "display_name": "Python_Course",
   "language": "python",
   "name": "python3"
  },
  "language_info": {
   "codemirror_mode": {
    "name": "ipython",
    "version": 3
   },
   "file_extension": ".py",
   "mimetype": "text/x-python",
   "name": "python",
   "nbconvert_exporter": "python",
   "pygments_lexer": "ipython3",
   "version": "3.11.11"
  }
 },
 "nbformat": 4,
 "nbformat_minor": 2
}
